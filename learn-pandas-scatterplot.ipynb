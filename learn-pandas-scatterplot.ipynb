{
 "cells": [
  {
   "cell_type": "code",
   "execution_count": 2,
   "metadata": {},
   "outputs": [],
   "source": [
    "import pandas as pd\n",
    "import numpy as np\n",
    "import seaborn as sns\n",
    "import matplotlib.pyplot as plt\n",
    "import scipy\n"
   ]
  },
  {
   "cell_type": "code",
   "execution_count": 109,
   "metadata": {},
   "outputs": [
    {
     "data": {
      "text/html": [
       "<div>\n",
       "<style scoped>\n",
       "    .dataframe tbody tr th:only-of-type {\n",
       "        vertical-align: middle;\n",
       "    }\n",
       "\n",
       "    .dataframe tbody tr th {\n",
       "        vertical-align: top;\n",
       "    }\n",
       "\n",
       "    .dataframe thead th {\n",
       "        text-align: right;\n",
       "    }\n",
       "</style>\n",
       "<table border=\"1\" class=\"dataframe\">\n",
       "  <thead>\n",
       "    <tr style=\"text-align: right;\">\n",
       "      <th></th>\n",
       "      <th>CSIRO Adjusted Sea Level</th>\n",
       "      <th>Lower Error Bound</th>\n",
       "      <th>Upper Error Bound</th>\n",
       "      <th>NOAA Adjusted Sea Level</th>\n",
       "    </tr>\n",
       "    <tr>\n",
       "      <th>Year</th>\n",
       "      <th></th>\n",
       "      <th></th>\n",
       "      <th></th>\n",
       "      <th></th>\n",
       "    </tr>\n",
       "  </thead>\n",
       "  <tbody>\n",
       "    <tr>\n",
       "      <th>1880-01-01</th>\n",
       "      <td>0.000000</td>\n",
       "      <td>-0.952756</td>\n",
       "      <td>0.952756</td>\n",
       "      <td>NaN</td>\n",
       "    </tr>\n",
       "    <tr>\n",
       "      <th>1881-01-01</th>\n",
       "      <td>0.220472</td>\n",
       "      <td>-0.732283</td>\n",
       "      <td>1.173228</td>\n",
       "      <td>NaN</td>\n",
       "    </tr>\n",
       "    <tr>\n",
       "      <th>1882-01-01</th>\n",
       "      <td>-0.440945</td>\n",
       "      <td>-1.346457</td>\n",
       "      <td>0.464567</td>\n",
       "      <td>NaN</td>\n",
       "    </tr>\n",
       "    <tr>\n",
       "      <th>1883-01-01</th>\n",
       "      <td>-0.232283</td>\n",
       "      <td>-1.129921</td>\n",
       "      <td>0.665354</td>\n",
       "      <td>NaN</td>\n",
       "    </tr>\n",
       "    <tr>\n",
       "      <th>1884-01-01</th>\n",
       "      <td>0.590551</td>\n",
       "      <td>-0.283465</td>\n",
       "      <td>1.464567</td>\n",
       "      <td>NaN</td>\n",
       "    </tr>\n",
       "    <tr>\n",
       "      <th>...</th>\n",
       "      <td>...</td>\n",
       "      <td>...</td>\n",
       "      <td>...</td>\n",
       "      <td>...</td>\n",
       "    </tr>\n",
       "    <tr>\n",
       "      <th>2009-01-01</th>\n",
       "      <td>8.586614</td>\n",
       "      <td>8.311024</td>\n",
       "      <td>8.862205</td>\n",
       "      <td>8.046354</td>\n",
       "    </tr>\n",
       "    <tr>\n",
       "      <th>2010-01-01</th>\n",
       "      <td>8.901575</td>\n",
       "      <td>8.618110</td>\n",
       "      <td>9.185039</td>\n",
       "      <td>8.122973</td>\n",
       "    </tr>\n",
       "    <tr>\n",
       "      <th>2011-01-01</th>\n",
       "      <td>8.964567</td>\n",
       "      <td>8.661417</td>\n",
       "      <td>9.267717</td>\n",
       "      <td>8.053065</td>\n",
       "    </tr>\n",
       "    <tr>\n",
       "      <th>2012-01-01</th>\n",
       "      <td>9.326772</td>\n",
       "      <td>8.992126</td>\n",
       "      <td>9.661417</td>\n",
       "      <td>8.457058</td>\n",
       "    </tr>\n",
       "    <tr>\n",
       "      <th>2013-01-01</th>\n",
       "      <td>8.980315</td>\n",
       "      <td>8.622047</td>\n",
       "      <td>9.338583</td>\n",
       "      <td>8.546648</td>\n",
       "    </tr>\n",
       "  </tbody>\n",
       "</table>\n",
       "<p>134 rows × 4 columns</p>\n",
       "</div>"
      ],
      "text/plain": [
       "            CSIRO Adjusted Sea Level  Lower Error Bound  Upper Error Bound  \\\n",
       "Year                                                                         \n",
       "1880-01-01                  0.000000          -0.952756           0.952756   \n",
       "1881-01-01                  0.220472          -0.732283           1.173228   \n",
       "1882-01-01                 -0.440945          -1.346457           0.464567   \n",
       "1883-01-01                 -0.232283          -1.129921           0.665354   \n",
       "1884-01-01                  0.590551          -0.283465           1.464567   \n",
       "...                              ...                ...                ...   \n",
       "2009-01-01                  8.586614           8.311024           8.862205   \n",
       "2010-01-01                  8.901575           8.618110           9.185039   \n",
       "2011-01-01                  8.964567           8.661417           9.267717   \n",
       "2012-01-01                  9.326772           8.992126           9.661417   \n",
       "2013-01-01                  8.980315           8.622047           9.338583   \n",
       "\n",
       "            NOAA Adjusted Sea Level  \n",
       "Year                                 \n",
       "1880-01-01                      NaN  \n",
       "1881-01-01                      NaN  \n",
       "1882-01-01                      NaN  \n",
       "1883-01-01                      NaN  \n",
       "1884-01-01                      NaN  \n",
       "...                             ...  \n",
       "2009-01-01                 8.046354  \n",
       "2010-01-01                 8.122973  \n",
       "2011-01-01                 8.053065  \n",
       "2012-01-01                 8.457058  \n",
       "2013-01-01                 8.546648  \n",
       "\n",
       "[134 rows x 4 columns]"
      ]
     },
     "execution_count": 109,
     "metadata": {},
     "output_type": "execute_result"
    }
   ],
   "source": [
    "# Automatically parse dates and use the first column as index (Year in this dataset)\n",
    "df=pd.read_csv(\"epa-sea-level.csv\",\n",
    "              parse_dates=True,\n",
    "              index_col=0)\n",
    "#print(df.info())\n",
    "#print(df.head())\n",
    "df"
   ]
  },
  {
   "cell_type": "code",
   "execution_count": 110,
   "metadata": {},
   "outputs": [
    {
     "data": {
      "text/html": [
       "<div>\n",
       "<style scoped>\n",
       "    .dataframe tbody tr th:only-of-type {\n",
       "        vertical-align: middle;\n",
       "    }\n",
       "\n",
       "    .dataframe tbody tr th {\n",
       "        vertical-align: top;\n",
       "    }\n",
       "\n",
       "    .dataframe thead th {\n",
       "        text-align: right;\n",
       "    }\n",
       "</style>\n",
       "<table border=\"1\" class=\"dataframe\">\n",
       "  <thead>\n",
       "    <tr style=\"text-align: right;\">\n",
       "      <th></th>\n",
       "      <th>Year</th>\n",
       "      <th>CSIRO Adjusted Sea Level</th>\n",
       "      <th>Lower Error Bound</th>\n",
       "      <th>Upper Error Bound</th>\n",
       "      <th>NOAA Adjusted Sea Level</th>\n",
       "    </tr>\n",
       "  </thead>\n",
       "  <tbody>\n",
       "    <tr>\n",
       "      <th>0</th>\n",
       "      <td>1880</td>\n",
       "      <td>0.000000</td>\n",
       "      <td>-0.952756</td>\n",
       "      <td>0.952756</td>\n",
       "      <td>NaN</td>\n",
       "    </tr>\n",
       "    <tr>\n",
       "      <th>1</th>\n",
       "      <td>1881</td>\n",
       "      <td>0.220472</td>\n",
       "      <td>-0.732283</td>\n",
       "      <td>1.173228</td>\n",
       "      <td>NaN</td>\n",
       "    </tr>\n",
       "    <tr>\n",
       "      <th>2</th>\n",
       "      <td>1882</td>\n",
       "      <td>-0.440945</td>\n",
       "      <td>-1.346457</td>\n",
       "      <td>0.464567</td>\n",
       "      <td>NaN</td>\n",
       "    </tr>\n",
       "    <tr>\n",
       "      <th>3</th>\n",
       "      <td>1883</td>\n",
       "      <td>-0.232283</td>\n",
       "      <td>-1.129921</td>\n",
       "      <td>0.665354</td>\n",
       "      <td>NaN</td>\n",
       "    </tr>\n",
       "    <tr>\n",
       "      <th>4</th>\n",
       "      <td>1884</td>\n",
       "      <td>0.590551</td>\n",
       "      <td>-0.283465</td>\n",
       "      <td>1.464567</td>\n",
       "      <td>NaN</td>\n",
       "    </tr>\n",
       "    <tr>\n",
       "      <th>...</th>\n",
       "      <td>...</td>\n",
       "      <td>...</td>\n",
       "      <td>...</td>\n",
       "      <td>...</td>\n",
       "      <td>...</td>\n",
       "    </tr>\n",
       "    <tr>\n",
       "      <th>129</th>\n",
       "      <td>2009</td>\n",
       "      <td>8.586614</td>\n",
       "      <td>8.311024</td>\n",
       "      <td>8.862205</td>\n",
       "      <td>8.046354</td>\n",
       "    </tr>\n",
       "    <tr>\n",
       "      <th>130</th>\n",
       "      <td>2010</td>\n",
       "      <td>8.901575</td>\n",
       "      <td>8.618110</td>\n",
       "      <td>9.185039</td>\n",
       "      <td>8.122973</td>\n",
       "    </tr>\n",
       "    <tr>\n",
       "      <th>131</th>\n",
       "      <td>2011</td>\n",
       "      <td>8.964567</td>\n",
       "      <td>8.661417</td>\n",
       "      <td>9.267717</td>\n",
       "      <td>8.053065</td>\n",
       "    </tr>\n",
       "    <tr>\n",
       "      <th>132</th>\n",
       "      <td>2012</td>\n",
       "      <td>9.326772</td>\n",
       "      <td>8.992126</td>\n",
       "      <td>9.661417</td>\n",
       "      <td>8.457058</td>\n",
       "    </tr>\n",
       "    <tr>\n",
       "      <th>133</th>\n",
       "      <td>2013</td>\n",
       "      <td>8.980315</td>\n",
       "      <td>8.622047</td>\n",
       "      <td>9.338583</td>\n",
       "      <td>8.546648</td>\n",
       "    </tr>\n",
       "  </tbody>\n",
       "</table>\n",
       "<p>134 rows × 5 columns</p>\n",
       "</div>"
      ],
      "text/plain": [
       "     Year  CSIRO Adjusted Sea Level  Lower Error Bound  Upper Error Bound  \\\n",
       "0    1880                  0.000000          -0.952756           0.952756   \n",
       "1    1881                  0.220472          -0.732283           1.173228   \n",
       "2    1882                 -0.440945          -1.346457           0.464567   \n",
       "3    1883                 -0.232283          -1.129921           0.665354   \n",
       "4    1884                  0.590551          -0.283465           1.464567   \n",
       "..    ...                       ...                ...                ...   \n",
       "129  2009                  8.586614           8.311024           8.862205   \n",
       "130  2010                  8.901575           8.618110           9.185039   \n",
       "131  2011                  8.964567           8.661417           9.267717   \n",
       "132  2012                  9.326772           8.992126           9.661417   \n",
       "133  2013                  8.980315           8.622047           9.338583   \n",
       "\n",
       "     NOAA Adjusted Sea Level  \n",
       "0                        NaN  \n",
       "1                        NaN  \n",
       "2                        NaN  \n",
       "3                        NaN  \n",
       "4                        NaN  \n",
       "..                       ...  \n",
       "129                 8.046354  \n",
       "130                 8.122973  \n",
       "131                 8.053065  \n",
       "132                 8.457058  \n",
       "133                 8.546648  \n",
       "\n",
       "[134 rows x 5 columns]"
      ]
     },
     "execution_count": 110,
     "metadata": {},
     "output_type": "execute_result"
    }
   ],
   "source": [
    "# We don't need data parsing in this example.\n",
    "df=pd.read_csv(\"epa-sea-level.csv\")\n",
    "#print(df.info())\n",
    "#print(df.head())\n",
    "df"
   ]
  },
  {
   "cell_type": "code",
   "execution_count": 123,
   "metadata": {},
   "outputs": [
    {
     "name": "stdout",
     "output_type": "stream",
     "text": [
      "\n"
     ]
    },
    {
     "data": {
      "image/png": "[encoded data removed]",
      "text/plain": [
       "<Figure size 432x288 with 1 Axes>"
      ]
     },
     "metadata": {
      "needs_background": "light"
     },
     "output_type": "display_data"
    }
   ],
   "source": [
    "# Scatter Plot - Option 1 - Using Dataframe plot function\n",
    "\n",
    "ax = df.plot.scatter(x=\"Year\",y=\"CSIRO Adjusted Sea Level\", c=\"m\", label=\"Sea Level\")    # Returns AxesSubPlot\n",
    "print(ax.get_title())\n",
    "\n"
   ]
  },
  {
   "cell_type": "code",
   "execution_count": 135,
   "metadata": {},
   "outputs": [
    {
     "name": "stdout",
     "output_type": "stream",
     "text": [
      "0     1880\n",
      "1     1881\n",
      "2     1882\n",
      "3     1883\n",
      "4     1884\n",
      "      ... \n",
      "31    2045\n",
      "32    2046\n",
      "33    2047\n",
      "34    2048\n",
      "35    2049\n",
      "Length: 170, dtype: int64\n",
      "Rise in Sea Level\n"
     ]
    },
    {
     "data": {
      "image/png": "[encoded data removed]",
      "text/plain": [
       "<Figure size 432x288 with 1 Axes>"
      ]
     },
     "metadata": {
      "needs_background": "light"
     },
     "output_type": "display_data"
    },
    {
     "name": "stdout",
     "output_type": "stream",
     "text": [
      "[-0.5421240249263661, -0.4790794409142336, -0.41603485690208686, -0.3529902728899543, -0.2899456888778218, -0.22690110486568926, -0.16385652085355673, -0.1008119368414242, -0.037767352829277456, 0.025277231182855076, 0.08832181519498761, 0.15136639920712014, 0.21441098321925267, 0.2774555672313852, 0.34050015124351773, 0.4035447352556645, 0.466589319267797, 0.5296339032799295, 0.5926784872920621, 0.6557230713041946, 0.7187676553163271, 0.7818122393284739, 0.8448568233406064, 0.9079014073527389, 0.9709459913648715, 1.033990575377004, 1.0970351593891365, 1.1600797434012833, 1.2231243274134158, 1.2861689114255483, 1.3492134954376809, 1.4122580794498134, 1.475302663461946, 1.5383472474740927, 1.6013918314862252, 1.6644364154983577, 1.7274809995104903, 1.7905255835226228, 1.8535701675347553, 1.9166147515468879, 1.9796593355590346, 2.042703919571167, 2.1057485035832997, 2.168793087595432, 2.2318376716075647, 2.2948822556196973, 2.357926839631844, 2.4209714236439766, 2.484016007656109, 2.5470605916682416, 2.610105175680374, 2.6731497596925067, 2.7361943437046534, 2.799238927716786, 2.8622835117289185, 2.925328095741051, 2.9883726797531835, 3.051417263765316, 3.1144618477774486, 3.1775064317895954, 3.240551015801728, 3.3035955998138604, 3.366640183825993, 3.4296847678381255, 3.492729351850258, 3.5557739358624048, 3.6188185198745373, 3.68186310388667, 3.7449076878988024, 3.807952271910935, 3.8709968559230674, 3.934041439935214, 3.9970860239473467, 4.060130607959479, 4.123175191971612, 4.186219775983744, 4.249264359995877, 4.312308944008024, 4.375353528020156, 4.438398112032289, 4.501442696044421, 4.564487280056554, 4.627531864068686, 4.690576448080819, 4.7536210320929655, 4.816665616105098, 4.879710200117231, 4.942754784129363, 5.005799368141496, 5.068843952153628, 5.131888536165775, 5.194933120177907, 5.25797770419004, 5.3210222882021725, 5.384066872214305, 5.4471114562264376, 5.510156040238584, 5.573200624250717, 5.636245208262849, 5.699289792274982, 5.762334376287114, 5.825378960299247, 5.8884235443113795, 5.951468128323526, 6.014512712335659, 6.077557296347791, 6.140601880359924, 6.203646464372056, 6.266691048384189, 6.329735632396336, 6.392780216408468, 6.455824800420601, 6.518869384432733, 6.581913968444866, 6.644958552456998, 6.708003136469145, 6.771047720481278, 6.83409230449341, 6.897136888505543, 6.960181472517675, 7.023226056529808, 7.086270640541954, 7.149315224554087, 7.2123598085662195, 7.275404392578352, 7.338448976590485, 7.401493560602617, 7.46453814461475, 7.527582728626896, 7.590627312639029, 7.653671896651161, 7.716716480663294, 7.7797610646754265, 7.842805648687559, 7.905850232699706, 7.968894816711838, 8.03193940072397, 8.094983984736103, 8.158028568748236, 8.221073152760368, 8.284117736772515, 8.347162320784648, 8.41020690479678, 8.473251488808913, 8.536296072821045, 8.599340656833178, 8.66238524084531, 8.725429824857457, 8.78847440886959, 8.851518992881722, 8.914563576893855, 8.977608160905987, 9.040652744918134, 9.103697328930252, 9.166741912942399, 9.229786496954517, 9.292831080966664, 9.35587566497881, 9.41892024899093, 9.481964833003076, 9.545009417015194, 9.608054001027341, 9.671098585039488, 9.734143169051606, 9.797187753063753, 9.860232337075871, 9.923276921088018, 9.986321505100136, 10.049366089112283, 10.11241067312443]\n",
      "[7.06107985777146, 7.227507131103323, 7.393934404435242, 7.560361677767105, 7.726788951098968, 7.89321622443083, 8.059643497762693, 8.226070771094555, 8.392498044426418, 8.55892531775828, 8.725352591090143, 8.891779864422006, 9.058207137753925, 9.224634411085788, 9.39106168441765, 9.557488957749513, 9.723916231081375, 9.890343504413238, 10.0567707777451, 10.223198051076963, 10.389625324408826, 10.556052597740688, 10.72247987107255, 10.88890714440447, 11.055334417736333, 11.221761691068195, 11.388188964400058, 11.55461623773192, 11.721043511063783, 11.887470784395646, 12.053898057727508, 12.220325331059371, 12.386752604391233, 12.553179877723153, 12.719607151055015, 12.886034424386878, 13.05246169771874, 13.218888971050603, 13.385316244382466, 13.551743517714328, 13.718170791046191, 13.884598064378054, 14.051025337709916, 14.217452611041836, 14.383879884373698, 14.55030715770556, 14.716734431037423, 14.883161704369286, 15.049588977701148, 15.216016251033011]\n",
      "\n"
     ]
    },
    {
     "data": {
      "image/png": "[encoded data removed]",
      "text/plain": [
       "<Figure size 432x288 with 1 Axes>"
      ]
     },
     "metadata": {
      "needs_background": "light"
     },
     "output_type": "display_data"
    }
   ],
   "source": [
    "# Scatter Plot - Option 2 - Using pyplot directly\n",
    "\n",
    "plt.scatter(df[\"Year\"], df[\"CSIRO Adjusted Sea Level\"], c=\"y\", label=\"Sea Level\")\n",
    "plt.xlabel('Year', fontsize=14, color='red')\n",
    "plt.ylabel('Sea Level (inches)')\n",
    "plt.title(\"Rise in Sea Level\")\n",
    "plt.axis([1850.0, 2075.0, 0, 12])\n",
    "plt.grid(True)\n",
    "plt.legend(loc='upper left')\n",
    "\n",
    "slope, intercept, r_value, p_value, std_err = scipy.stats.linregress(df[\"Year\"], df[\"CSIRO Adjusted Sea Level\"])\n",
    "#plt.plot(df[\"Year\"], intercept + slope*df[\"Year\"], 'r', label='fitted line')\n",
    "\n",
    "# Create new Panda Series till 2050 for predicting future\n",
    "years = df[\"Year\"]\n",
    "more = pd.Series([ii for ii in range(df[\"Year\"].max() + 1, 2050)])\n",
    "years = years.append(more)\n",
    "print(years)\n",
    "\n",
    "# Now plot a line  that predicts the sealevel till 2050 using current slope\n",
    "plt.plot(years, intercept + slope*years, 'r', label='Prediction using all data')    # r for red\n",
    "plt.legend(loc='upper left')\n",
    "\n",
    "\n",
    "# Predict using data from year 2000 through the most recent year\n",
    "df1 = df.query(\"Year > 1999\")\n",
    "slope, intercept, r_value, p_value, std_err = scipy.stats.linregress(df1[\"Year\"], df1[\"CSIRO Adjusted Sea Level\"])\n",
    "years = df1[\"Year\"]\n",
    "years = years[years > 1999]\n",
    "more = pd.Series([ii for ii in range(df1[\"Year\"].max() + 1, 2050)])\n",
    "years = years.append(more)\n",
    "years = years.reset_index(drop=True)\n",
    "plt.plot(years, intercept + slope*years, 'g-', label='Prediction using recent data')    # g for green\n",
    "plt.legend(loc='upper left')\n",
    "\n",
    "ax = plt.gca()\n",
    "print(ax.get_title())\n",
    "\n",
    "plt.show()\n",
    "\n",
    "print(ax.get_lines()[0].get_ydata().tolist())\n",
    "print(ax.get_lines()[1].get_ydata().tolist())\n",
    "\n",
    "\n",
    "# A new plt starts from here (after show()). Save references before this else \n",
    "# you lose them. The following will be empty\n",
    "ax = plt.gca()\n",
    "print(ax.get_title())\n"
   ]
  },
  {
   "cell_type": "code",
   "execution_count": 45,
   "metadata": {},
   "outputs": [],
   "source": [
    "# Once the plot is rendered, you can draw the next one using same API."
   ]
  },
  {
   "cell_type": "code",
   "execution_count": 4,
   "metadata": {},
   "outputs": [
    {
     "data": {
      "text/plain": [
       "(array([-2.,  0.,  2.,  4.,  6.,  8., 10.]),\n",
       " [Text(0, 0, ''),\n",
       "  Text(0, 0, ''),\n",
       "  Text(0, 0, ''),\n",
       "  Text(0, 0, ''),\n",
       "  Text(0, 0, ''),\n",
       "  Text(0, 0, ''),\n",
       "  Text(0, 0, '')])"
      ]
     },
     "execution_count": 4,
     "metadata": {},
     "output_type": "execute_result"
    },
    {
     "data": {
      "image/png": "[encoded data removed]",
      "text/plain": [
       "<Figure size 720x360 with 1 Axes>"
      ]
     },
     "metadata": {
      "needs_background": "light"
     },
     "output_type": "display_data"
    }
   ],
   "source": [
    "# Scatter Plot - Option 3. Specify the size and pass it.\n",
    "\n",
    "fig, ax= plt.subplots(figsize=(10,5))\n",
    "df.plot.scatter(x=\"Year\",y=\"CSIRO Adjusted Sea Level\", ax=ax)\n",
    "ax.set_title(\"Rise in Sea Level\")\n",
    "ax.set_ylabel('Sea Level (inches)')\n",
    "plt.xticks([1850.0, 1875.0, 1900.0, 1925.0, 1950.0, 1975.0, 2000.0, 2025.0, 2050.0, 2075.0])\n",
    "plt.yticks(fontsize = 10)\n"
   ]
  },
  {
   "cell_type": "code",
   "execution_count": null,
   "metadata": {},
   "outputs": [],
   "source": []
  },
  {
   "cell_type": "code",
   "execution_count": 5,
   "metadata": {},
   "outputs": [
    {
     "data": {
      "text/plain": [
       "'Rise in Sea Level'"
      ]
     },
     "execution_count": 5,
     "metadata": {},
     "output_type": "execute_result"
    }
   ],
   "source": [
    "ax.get_title()"
   ]
  },
  {
   "cell_type": "code",
   "execution_count": 6,
   "metadata": {},
   "outputs": [
    {
     "data": {
      "text/plain": [
       "'Sea Level (inches)'"
      ]
     },
     "execution_count": 6,
     "metadata": {},
     "output_type": "execute_result"
    }
   ],
   "source": [
    "ax.get_ylabel()"
   ]
  },
  {
   "cell_type": "code",
   "execution_count": 7,
   "metadata": {},
   "outputs": [
    {
     "data": {
      "text/plain": [
       "'Year'"
      ]
     },
     "execution_count": 7,
     "metadata": {},
     "output_type": "execute_result"
    }
   ],
   "source": [
    "ax.get_xlabel()"
   ]
  },
  {
   "cell_type": "code",
   "execution_count": 8,
   "metadata": {},
   "outputs": [
    {
     "data": {
      "text/plain": [
       "[1850.0,\n",
       " 1875.0,\n",
       " 1900.0,\n",
       " 1925.0,\n",
       " 1950.0,\n",
       " 1975.0,\n",
       " 2000.0,\n",
       " 2025.0,\n",
       " 2050.0,\n",
       " 2075.0]"
      ]
     },
     "execution_count": 8,
     "metadata": {},
     "output_type": "execute_result"
    }
   ],
   "source": [
    "ax.get_xticks().tolist()"
   ]
  },
  {
   "cell_type": "code",
   "execution_count": 9,
   "metadata": {},
   "outputs": [
    {
     "data": {
      "text/plain": [
       "[[1880.0, 0.0],\n",
       " [1881.0, 0.22047244100000002],\n",
       " [1882.0, -0.440944881],\n",
       " [1883.0, -0.232283464],\n",
       " [1884.0, 0.590551181],\n",
       " [1885.0, 0.531496062],\n",
       " [1886.0, 0.43700787399999996],\n",
       " [1887.0, 0.216535433],\n",
       " [1888.0, 0.299212598],\n",
       " [1889.0, 0.362204724],\n",
       " [1890.0, 0.440944881],\n",
       " [1891.0, 0.374015748],\n",
       " [1892.0, 0.499999999],\n",
       " [1893.0, 0.6850393690000001],\n",
       " [1894.0, 0.303149606],\n",
       " [1895.0, 0.767716535],\n",
       " [1896.0, 0.46850393700000004],\n",
       " [1897.0, 0.6732283459999999],\n",
       " [1898.0, 1.043307086],\n",
       " [1899.0, 1.338582676],\n",
       " [1900.0, 1.125984251],\n",
       " [1901.0, 1.1102362190000001],\n",
       " [1902.0, 1.291338581],\n",
       " [1903.0, 1.6062992109999998],\n",
       " [1904.0, 1.2007874],\n",
       " [1905.0, 0.9842519679999999],\n",
       " [1906.0, 1.251968503],\n",
       " [1907.0, 1.196850392],\n",
       " [1908.0, 1.098425196],\n",
       " [1909.0, 1.27559055],\n",
       " [1910.0, 1.2716535420000001],\n",
       " [1911.0, 1.598425195],\n",
       " [1912.0, 1.476377951],\n",
       " [1913.0, 1.5472440930000002],\n",
       " [1914.0, 1.795275589],\n",
       " [1915.0, 2.10629921],\n",
       " [1916.0, 2.031496061],\n",
       " [1917.0, 1.854330707],\n",
       " [1918.0, 1.791338581],\n",
       " [1919.0, 1.854330707],\n",
       " [1920.0, 1.905511809],\n",
       " [1921.0, 1.988188974],\n",
       " [1922.0, 1.952755904],\n",
       " [1923.0, 1.999999998],\n",
       " [1924.0, 1.7125984230000002],\n",
       " [1925.0, 1.791338581],\n",
       " [1926.0, 2.0472440919999997],\n",
       " [1927.0, 2.003937006],\n",
       " [1928.0, 1.850393699],\n",
       " [1929.0, 1.905511809],\n",
       " [1930.0, 2.062992124],\n",
       " [1931.0, 2.0472440919999997],\n",
       " [1932.0, 2.271653541],\n",
       " [1933.0, 2.440944879],\n",
       " [1934.0, 2.228346454],\n",
       " [1935.0, 2.448818895],\n",
       " [1936.0, 2.295275588],\n",
       " [1937.0, 2.519685037],\n",
       " [1938.0, 2.6220472409999998],\n",
       " [1939.0, 2.826771651],\n",
       " [1940.0, 2.618110234],\n",
       " [1941.0, 3.098425194],\n",
       " [1942.0, 3.098425194],\n",
       " [1943.0, 3.098425194],\n",
       " [1944.0, 2.84645669],\n",
       " [1945.0, 2.95669291],\n",
       " [1946.0, 3.2519685010000003],\n",
       " [1947.0, 3.374015745],\n",
       " [1948.0, 3.562992122],\n",
       " [1949.0, 3.51181102],\n",
       " [1950.0, 3.598425193],\n",
       " [1951.0, 3.9724409410000003],\n",
       " [1952.0, 3.8700787360000004],\n",
       " [1953.0, 4.043307082],\n",
       " [1954.0, 3.929133854],\n",
       " [1955.0, 3.964566925],\n",
       " [1956.0, 3.763779524],\n",
       " [1957.0, 4.291338578],\n",
       " [1958.0, 4.346456688],\n",
       " [1959.0, 4.358267712],\n",
       " [1960.0, 4.503937003],\n",
       " [1961.0, 4.748031491],\n",
       " [1962.0, 4.543307082],\n",
       " [1963.0, 4.480314956],\n",
       " [1964.0, 4.1692913339999995],\n",
       " [1965.0, 4.6102362160000006],\n",
       " [1966.0, 4.397637791],\n",
       " [1967.0, 4.452755901000001],\n",
       " [1968.0, 4.484251963999999],\n",
       " [1969.0, 4.751968499],\n",
       " [1970.0, 4.67716535],\n",
       " [1971.0, 4.881889759],\n",
       " [1972.0, 5.240157475],\n",
       " [1973.0, 5.003937003],\n",
       " [1974.0, 5.472440939],\n",
       " [1975.0, 5.409448812999999],\n",
       " [1976.0, 5.370078735],\n",
       " [1977.0, 5.303149601],\n",
       " [1978.0, 5.555118105],\n",
       " [1979.0, 5.362204719],\n",
       " [1980.0, 5.5984251910000005],\n",
       " [1981.0, 6.0866141670000005],\n",
       " [1982.0, 5.858267711],\n",
       " [1983.0, 6.188976372000001],\n",
       " [1984.0, 6.153543301],\n",
       " [1985.0, 5.74803149],\n",
       " [1986.0, 5.771653537000001],\n",
       " [1987.0, 5.795275585],\n",
       " [1988.0, 5.980314955],\n",
       " [1989.0, 6.157480308999999],\n",
       " [1990.0, 6.2322834579999995],\n",
       " [1991.0, 6.334645663],\n",
       " [1992.0, 6.35826771],\n",
       " [1993.0, 6.291338576],\n",
       " [1994.0, 6.499999992999999],\n",
       " [1995.0, 6.618110229],\n",
       " [1996.0, 6.787401568],\n",
       " [1997.0, 7.066929127000001],\n",
       " [1998.0, 6.665354324],\n",
       " [1999.0, 7.011811016],\n",
       " [2000.0, 7.062992119],\n",
       " [2001.0, 7.287401567000001],\n",
       " [2002.0, 7.3818897560000005],\n",
       " [2003.0, 7.7598425120000005],\n",
       " [2004.0, 7.740157472000001],\n",
       " [2005.0, 7.74409448],\n",
       " [2006.0, 7.9173228270000005],\n",
       " [2007.0, 7.996062984],\n",
       " [2008.0, 8.350393692],\n",
       " [2009.0, 8.586614164],\n",
       " [2010.0, 8.901574794],\n",
       " [2011.0, 8.96456692],\n",
       " [2012.0, 9.326771643999999],\n",
       " [2013.0, 8.980314951]]"
      ]
     },
     "execution_count": 9,
     "metadata": {},
     "output_type": "execute_result"
    }
   ],
   "source": [
    "ax.get_children()[0].get_offsets().data.tolist()"
   ]
  },
  {
   "cell_type": "code",
   "execution_count": null,
   "metadata": {},
   "outputs": [],
   "source": []
  },
  {
   "cell_type": "code",
   "execution_count": null,
   "metadata": {},
   "outputs": [],
   "source": []
  },
  {
   "cell_type": "code",
   "execution_count": null,
   "metadata": {},
   "outputs": [],
   "source": []
  },
  {
   "cell_type": "code",
   "execution_count": 22,
   "metadata": {},
   "outputs": [
    {
     "name": "stdout",
     "output_type": "stream",
     "text": [
      "0.0630445840121348 -119.06594196773978 0.9847571311825848 3.788696979116818e-102 0.0009692118713287222\n"
     ]
    }
   ],
   "source": [
    "slope, intercept, r_value, p_value, std_err = scipy.stats.linregress(df[\"Year\"], df[\"CSIRO Adjusted Sea Level\"])\n",
    "print(slope, intercept, r_value, p_value, std_err)"
   ]
  },
  {
   "cell_type": "code",
   "execution_count": null,
   "metadata": {},
   "outputs": [],
   "source": []
  },
  {
   "cell_type": "code",
   "execution_count": null,
   "metadata": {},
   "outputs": [],
   "source": []
  },
  {
   "cell_type": "code",
   "execution_count": null,
   "metadata": {},
   "outputs": [],
   "source": []
  },
  {
   "cell_type": "code",
   "execution_count": 37,
   "metadata": {},
   "outputs": [
    {
     "data": {
      "text/plain": [
       "([<matplotlib.axis.XTick at 0x7f473cf4b400>,\n",
       "  <matplotlib.axis.XTick at 0x7f473cf4b3d0>,\n",
       "  <matplotlib.axis.XTick at 0x7f473cf45f40>,\n",
       "  <matplotlib.axis.XTick at 0x7f473cf6ee80>,\n",
       "  <matplotlib.axis.XTick at 0x7f473cf783d0>,\n",
       "  <matplotlib.axis.XTick at 0x7f473cf788e0>,\n",
       "  <matplotlib.axis.XTick at 0x7f473cf78df0>,\n",
       "  <matplotlib.axis.XTick at 0x7f473cf7f340>,\n",
       "  <matplotlib.axis.XTick at 0x7f473cf7f850>,\n",
       "  <matplotlib.axis.XTick at 0x7f473cf7fd90>],\n",
       " [Text(0, 0, ''),\n",
       "  Text(0, 0, ''),\n",
       "  Text(0, 0, ''),\n",
       "  Text(0, 0, ''),\n",
       "  Text(0, 0, ''),\n",
       "  Text(0, 0, ''),\n",
       "  Text(0, 0, ''),\n",
       "  Text(0, 0, ''),\n",
       "  Text(0, 0, ''),\n",
       "  Text(0, 0, '')])"
      ]
     },
     "execution_count": 37,
     "metadata": {},
     "output_type": "execute_result"
    },
    {
     "data": {
      "image/png": "[encoded data removed]",
      "text/plain": [
       "<Figure size 432x288 with 1 Axes>"
      ]
     },
     "metadata": {
      "needs_background": "light"
     },
     "output_type": "display_data"
    }
   ],
   "source": [
    "#plt.plot(df[\"Year\"], df[\"CSIRO Adjusted Sea Level\"], 'o', label='original data')\n",
    "#df.plot.scatter(x=\"Year\",y=\"CSIRO Adjusted Sea Level\", ax=ax)\n",
    "\n",
    "\n",
    "plt.plot(df[\"Year\"], intercept + slope*df[\"Year\"], 'r', label='fitted line')\n",
    "plt.xticks([1850.0, 1875.0, 1900.0, 1925.0, 1950.0, 1975.0, 2000.0, 2025.0, 2050.0, 2075.0])"
   ]
  },
  {
   "cell_type": "code",
   "execution_count": 13,
   "metadata": {},
   "outputs": [
    {
     "ename": "IndexError",
     "evalue": "list index out of range",
     "output_type": "error",
     "traceback": [
      "\u001b[0;31m---------------------------------------------------------------------------\u001b[0m",
      "\u001b[0;31mIndexError\u001b[0m                                Traceback (most recent call last)",
      "\u001b[0;32m<ipython-input-13-9d3872d891cf>\u001b[0m in \u001b[0;36m<module>\u001b[0;34m\u001b[0m\n\u001b[0;32m----> 1\u001b[0;31m \u001b[0max\u001b[0m\u001b[0;34m.\u001b[0m\u001b[0mget_lines\u001b[0m\u001b[0;34m(\u001b[0m\u001b[0;34m)\u001b[0m\u001b[0;34m[\u001b[0m\u001b[0;36m0\u001b[0m\u001b[0;34m]\u001b[0m\u001b[0;34m.\u001b[0m\u001b[0mget_ydata\u001b[0m\u001b[0;34m(\u001b[0m\u001b[0;34m)\u001b[0m\u001b[0;34m.\u001b[0m\u001b[0mtolist\u001b[0m\u001b[0;34m(\u001b[0m\u001b[0;34m)\u001b[0m\u001b[0;34m\u001b[0m\u001b[0;34m\u001b[0m\u001b[0m\n\u001b[0m",
      "\u001b[0;31mIndexError\u001b[0m: list index out of range"
     ]
    }
   ],
   "source": [
    "ax.get_lines()[0].get_ydata().tolist()"
   ]
  },
  {
   "cell_type": "code",
   "execution_count": null,
   "metadata": {},
   "outputs": [],
   "source": []
  },
  {
   "cell_type": "code",
   "execution_count": null,
   "metadata": {},
   "outputs": [],
   "source": []
  },
  {
   "cell_type": "code",
   "execution_count": null,
   "metadata": {},
   "outputs": [],
   "source": []
  },
  {
   "cell_type": "code",
   "execution_count": null,
   "metadata": {},
   "outputs": [],
   "source": []
  },
  {
   "cell_type": "code",
   "execution_count": null,
   "metadata": {},
   "outputs": [],
   "source": []
  },
  {
   "cell_type": "code",
   "execution_count": null,
   "metadata": {},
   "outputs": [],
   "source": []
  },
  {
   "cell_type": "code",
   "execution_count": null,
   "metadata": {},
   "outputs": [],
   "source": []
  },
  {
   "cell_type": "code",
   "execution_count": null,
   "metadata": {},
   "outputs": [],
   "source": []
  },
  {
   "cell_type": "code",
   "execution_count": null,
   "metadata": {},
   "outputs": [],
   "source": []
  },
  {
   "cell_type": "code",
   "execution_count": null,
   "metadata": {},
   "outputs": [],
   "source": []
  },
  {
   "cell_type": "code",
   "execution_count": 103,
   "metadata": {},
   "outputs": [
    {
     "name": "stdout",
     "output_type": "stream",
     "text": [
      "     Year  CSIRO Adjusted Sea Level  Lower Error Bound  Upper Error Bound  \\\n",
      "120  2000                  7.062992           6.791339           7.334646   \n",
      "121  2001                  7.287402           7.019685           7.555118   \n",
      "122  2002                  7.381890           7.110236           7.653543   \n",
      "123  2003                  7.759843           7.484252           8.035433   \n",
      "124  2004                  7.740157           7.464567           8.015748   \n",
      "125  2005                  7.744094           7.472441           8.015748   \n",
      "126  2006                  7.917323           7.645669           8.188976   \n",
      "127  2007                  7.996063           7.712598           8.279528   \n",
      "128  2008                  8.350394           8.078740           8.622047   \n",
      "129  2009                  8.586614           8.311024           8.862205   \n",
      "130  2010                  8.901575           8.618110           9.185039   \n",
      "131  2011                  8.964567           8.661417           9.267717   \n",
      "132  2012                  9.326772           8.992126           9.661417   \n",
      "133  2013                  8.980315           8.622047           9.338583   \n",
      "\n",
      "     NOAA Adjusted Sea Level  \n",
      "120                 6.920582  \n",
      "121                 7.087460  \n",
      "122                 7.319698  \n",
      "123                 7.488353  \n",
      "124                 7.507933  \n",
      "125                 7.644563  \n",
      "126                 7.697420  \n",
      "127                 7.702147  \n",
      "128                 7.907365  \n",
      "129                 8.046354  \n",
      "130                 8.122973  \n",
      "131                 8.053065  \n",
      "132                 8.457058  \n",
      "133                 8.546648  \n"
     ]
    },
    {
     "data": {
      "text/plain": [
       "0     2001\n",
       "1     2002\n",
       "2     2003\n",
       "3     2004\n",
       "4     2005\n",
       "5     2006\n",
       "6     2007\n",
       "7     2008\n",
       "8     2009\n",
       "9     2010\n",
       "10    2011\n",
       "11    2012\n",
       "12    2013\n",
       "13    2014\n",
       "14    2015\n",
       "15    2016\n",
       "16    2017\n",
       "17    2018\n",
       "18    2019\n",
       "19    2020\n",
       "20    2021\n",
       "21    2022\n",
       "22    2023\n",
       "23    2024\n",
       "24    2025\n",
       "25    2026\n",
       "26    2027\n",
       "27    2028\n",
       "28    2029\n",
       "29    2030\n",
       "30    2031\n",
       "31    2032\n",
       "32    2033\n",
       "33    2034\n",
       "34    2035\n",
       "35    2036\n",
       "36    2037\n",
       "37    2038\n",
       "38    2039\n",
       "39    2040\n",
       "40    2041\n",
       "41    2042\n",
       "42    2043\n",
       "43    2044\n",
       "44    2045\n",
       "45    2046\n",
       "46    2047\n",
       "47    2048\n",
       "48    2049\n",
       "49    2050\n",
       "dtype: int64"
      ]
     },
     "execution_count": 103,
     "metadata": {},
     "output_type": "execute_result"
    }
   ],
   "source": [
    "\n",
    "df1 = df.query(\"Year > 1999\")\n",
    "print(df1)\n",
    "years = df1[\"Year\"]\n",
    "years = years[years > 2000]\n",
    "more = pd.Series([ii for ii in range(df1[\"Year\"].max() + 1, 2051)])\n",
    "years = years.append(more)\n",
    "years = years.reset_index(drop=True)\n",
    "years"
   ]
  },
  {
   "cell_type": "code",
   "execution_count": null,
   "metadata": {},
   "outputs": [],
   "source": []
  },
  {
   "cell_type": "code",
   "execution_count": null,
   "metadata": {},
   "outputs": [],
   "source": []
  },
  {
   "cell_type": "code",
   "execution_count": null,
   "metadata": {},
   "outputs": [],
   "source": []
  },
  {
   "cell_type": "code",
   "execution_count": null,
   "metadata": {},
   "outputs": [],
   "source": []
  },
  {
   "cell_type": "code",
   "execution_count": null,
   "metadata": {},
   "outputs": [],
   "source": []
  },
  {
   "cell_type": "code",
   "execution_count": null,
   "metadata": {},
   "outputs": [],
   "source": []
  },
  {
   "cell_type": "code",
   "execution_count": null,
   "metadata": {},
   "outputs": [],
   "source": []
  }
 ],
 "metadata": {
  "kernelspec": {
   "display_name": "Python 3",
   "language": "python",
   "name": "python3"
  },
  "language_info": {
   "codemirror_mode": {
    "name": "ipython",
    "version": 3
   },
   "file_extension": ".py",
   "mimetype": "text/x-python",
   "name": "python",
   "nbconvert_exporter": "python",
   "pygments_lexer": "ipython3",
   "version": "3.8.2"
  }
 },
 "nbformat": 4,
 "nbformat_minor": 4
}
