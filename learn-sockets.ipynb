{
 "cells": [
  {
   "cell_type": "code",
   "execution_count": 1,
   "metadata": {},
   "outputs": [],
   "source": [
    "import socket"
   ]
  },
  {
   "cell_type": "code",
   "execution_count": 2,
   "metadata": {},
   "outputs": [
    {
     "data": {
      "text/plain": [
       "<socket.socket fd=57, family=AddressFamily.AF_INET, type=SocketKind.SOCK_STREAM, proto=0, laddr=('0.0.0.0', 0)>"
      ]
     },
     "execution_count": 2,
     "metadata": {},
     "output_type": "execute_result"
    }
   ],
   "source": [
    "s = socket.socket(socket.AF_INET, socket.SOCK_STREAM)\n",
    "s"
   ]
  },
  {
   "cell_type": "code",
   "execution_count": null,
   "metadata": {},
   "outputs": [
    {
     "name": "stdout",
     "output_type": "stream",
     "text": [
      "Starting server\n",
      "Connection established from \n"
     ]
    }
   ],
   "source": [
    "# Server\n",
    "HOST = \"127.0.0.1\"   # Standard loopback interface address (localhost)\n",
    "PORT = 65432         # Port to listen on (non-privileged ports are > 1023)\n",
    "\n",
    "s.bind((HOST, PORT))\n",
    "\n",
    "# listen for upto 3 connections\n",
    "s.listen(3)\n",
    "\n",
    "print(\"Starting server\")\n",
    "while True:\n",
    "    clientsocket, address = s.accept()\n",
    "    print(\"Connection established from \")"
   ]
  },
  {
   "cell_type": "code",
   "execution_count": null,
   "metadata": {},
   "outputs": [],
   "source": [
    "#Client (Don't run it here. Run it in a separate session or in terminal)\n",
    "#c = socket.socket(socket.AF_INET, socket.SOCK_STREAM)\n",
    "#c.connect((HOST, PORT))\n",
    "#c.sendall(b'Hello, world')\n",
    "#c.close()\n"
   ]
  },
  {
   "cell_type": "code",
   "execution_count": null,
   "metadata": {},
   "outputs": [],
   "source": []
  }
 ],
 "metadata": {
  "kernelspec": {
   "display_name": "Python 3",
   "language": "python",
   "name": "python3"
  },
  "language_info": {
   "codemirror_mode": {
    "name": "ipython",
    "version": 3
   },
   "file_extension": ".py",
   "mimetype": "text/x-python",
   "name": "python",
   "nbconvert_exporter": "python",
   "pygments_lexer": "ipython3",
   "version": "3.8.2"
  }
 },
 "nbformat": 4,
 "nbformat_minor": 4
}
