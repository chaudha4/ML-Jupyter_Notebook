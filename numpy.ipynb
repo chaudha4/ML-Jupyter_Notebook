{
  "nbformat": 4,
  "nbformat_minor": 0,
  "metadata": {
    "kernelspec": {
      "display_name": "Python 3",
      "language": "python",
      "name": "python3"
    },
    "language_info": {
      "codemirror_mode": {
        "name": "ipython",
        "version": 3
      },
      "file_extension": ".py",
      "mimetype": "text/x-python",
      "name": "python",
      "nbconvert_exporter": "python",
      "pygments_lexer": "ipython3",
      "version": "3.8.5"
    },
    "colab": {
      "name": "numpy.ipynb",
      "provenance": [],
      "include_colab_link": true
    }
  },
  "cells": [
    {
      "cell_type": "markdown",
      "metadata": {
        "id": "view-in-github",
        "colab_type": "text"
      },
      "source": [
        "<a href=\"https://colab.research.google.com/github/chaudha4/ML-Jupyter_Notebook/blob/master/numpy.ipynb\" target=\"_parent\"><img src=\"https://colab.research.google.com/assets/colab-badge.svg\" alt=\"Open In Colab\"/></a>"
      ]
    },
    {
      "cell_type": "code",
      "metadata": {
        "id": "yAATvZLzT1gu"
      },
      "source": [
        "import numpy as np"
      ],
      "execution_count": 1,
      "outputs": []
    },
    {
      "cell_type": "markdown",
      "metadata": {
        "id": "Sjf1VJCNVSV-"
      },
      "source": [
        "## Creating"
      ]
    },
    {
      "cell_type": "code",
      "metadata": {
        "id": "LQFDgjB4T1g2",
        "outputId": "58c6ceec-c4d9-431e-ec66-446862bfce07",
        "colab": {
          "base_uri": "https://localhost:8080/"
        }
      },
      "source": [
        "# create a numpy array\n",
        "a = np.array([1,2,3,4,5,6,7,8,9])\n",
        "print(type(a))"
      ],
      "execution_count": 2,
      "outputs": [
        {
          "output_type": "stream",
          "text": [
            "<class 'numpy.ndarray'>\n"
          ],
          "name": "stdout"
        }
      ]
    },
    {
      "cell_type": "code",
      "metadata": {
        "id": "CrRqrh5rUNyy",
        "outputId": "5f95a57f-4e81-48f8-8a67-e7c2aa2f1582",
        "colab": {
          "base_uri": "https://localhost:8080/"
        }
      },
      "source": [
        "print(f\"Shape is {a.shape}\")"
      ],
      "execution_count": 3,
      "outputs": [
        {
          "output_type": "stream",
          "text": [
            "Shape is (9,)\n"
          ],
          "name": "stdout"
        }
      ]
    },
    {
      "cell_type": "code",
      "metadata": {
        "id": "9Mj9KpnFU1Bv",
        "outputId": "71f7a4a7-0df3-4bcc-f289-bdee7211a20b",
        "colab": {
          "base_uri": "https://localhost:8080/"
        }
      },
      "source": [
        "print(np.arange(9))"
      ],
      "execution_count": 8,
      "outputs": [
        {
          "output_type": "stream",
          "text": [
            "[0 1 2 3 4 5 6 7 8]\n"
          ],
          "name": "stdout"
        }
      ]
    },
    {
      "cell_type": "code",
      "metadata": {
        "id": "ANPutvJQVCNH",
        "outputId": "d92834ca-7a13-46d0-fc9d-b6f15cbd6061",
        "colab": {
          "base_uri": "https://localhost:8080/"
        }
      },
      "source": [
        "print(np.arange(201,215))"
      ],
      "execution_count": 9,
      "outputs": [
        {
          "output_type": "stream",
          "text": [
            "[201 202 203 204 205 206 207 208 209 210 211 212 213 214]\n"
          ],
          "name": "stdout"
        }
      ]
    },
    {
      "cell_type": "markdown",
      "metadata": {
        "id": "SMf5QD7_Wlak"
      },
      "source": [
        "## Slicing"
      ]
    },
    {
      "cell_type": "code",
      "metadata": {
        "id": "YvIoewkAT1g5",
        "outputId": "095fed9c-28ed-45ec-9a1a-d3499fd0f07b"
      },
      "source": [
        "# Start with index 0 and get every 2nd element\n",
        "a[::2]"
      ],
      "execution_count": null,
      "outputs": [
        {
          "output_type": "execute_result",
          "data": {
            "text/plain": [
              "array([1, 3, 5, 7, 9])"
            ]
          },
          "metadata": {
            "tags": []
          },
          "execution_count": 10
        }
      ]
    },
    {
      "cell_type": "code",
      "metadata": {
        "id": "6sCSF7SOT1g5",
        "outputId": "1cdce494-6f98-4681-f224-b1187da72c16"
      },
      "source": [
        "# Start with index 1 and get every 2nd element till index 5(excluding)\n",
        "a[1:5:2]"
      ],
      "execution_count": null,
      "outputs": [
        {
          "output_type": "execute_result",
          "data": {
            "text/plain": [
              "array([2, 4])"
            ]
          },
          "metadata": {
            "tags": []
          },
          "execution_count": 4
        }
      ]
    },
    {
      "cell_type": "code",
      "metadata": {
        "id": "wYwUF_26T1g6",
        "outputId": "67388c6a-8cfc-415d-e6e9-255ba7965479"
      },
      "source": [
        "# Start with index end(-1) and get every 2nd element in reverse direction\n",
        "a[-1::-2]"
      ],
      "execution_count": null,
      "outputs": [
        {
          "output_type": "execute_result",
          "data": {
            "text/plain": [
              "array([9, 7, 5, 3, 1])"
            ]
          },
          "metadata": {
            "tags": []
          },
          "execution_count": 6
        }
      ]
    },
    {
      "cell_type": "code",
      "metadata": {
        "id": "u3fii58ST1g6",
        "outputId": "4c24ebd4-021b-4ec7-9881-598de386b9d7",
        "colab": {
          "base_uri": "https://localhost:8080/"
        }
      },
      "source": [
        "# change the values in the 3rd column of both of the following Numpy arrays to 20\n",
        "a = np.array([[1, 2, 3, 4, 5], [6, 7, 8, 9, 10]])\n",
        "a[:, 2] = 20\n",
        "print(a)"
      ],
      "execution_count": 4,
      "outputs": [
        {
          "output_type": "stream",
          "text": [
            "[[ 1  2 20  4  5]\n",
            " [ 6  7 20  9 10]]\n"
          ],
          "name": "stdout"
        }
      ]
    },
    {
      "cell_type": "markdown",
      "metadata": {
        "id": "h3rD7wbAWrxE"
      },
      "source": [
        "## Random"
      ]
    },
    {
      "cell_type": "code",
      "metadata": {
        "id": "itNsimLpT1g7",
        "outputId": "17cbc91e-fb0a-45f4-cbb5-6ad608484129"
      },
      "source": [
        "b = np.random.random(9)\n",
        "print(b)"
      ],
      "execution_count": null,
      "outputs": [
        {
          "output_type": "stream",
          "text": [
            "[0.78547128 0.14893601 0.75783653 0.4718227  0.09595438 0.80039186\n",
            " 0.35293457 0.6936336  0.76173534]\n"
          ],
          "name": "stdout"
        }
      ]
    },
    {
      "cell_type": "code",
      "metadata": {
        "id": "yFo1PNFKT1g8",
        "outputId": "0dc555af-6df6-4552-8818-313136ed5004"
      },
      "source": [
        "print(np.random.random((2,3,4)))"
      ],
      "execution_count": null,
      "outputs": [
        {
          "output_type": "stream",
          "text": [
            "[[[0.25129664 0.88690654 0.85383808 0.99427024]\n",
            "  [0.77210091 0.29143768 0.3675352  0.93274592]\n",
            "  [0.68332929 0.96854482 0.23414458 0.60169013]]\n",
            "\n",
            " [[0.56536059 0.58524495 0.61751963 0.23414843]\n",
            "  [0.33562316 0.95424863 0.65636502 0.68131345]\n",
            "  [0.7216061  0.30873221 0.59410882 0.37097035]]]\n"
          ],
          "name": "stdout"
        }
      ]
    },
    {
      "cell_type": "code",
      "metadata": {
        "id": "ouEr9MAhT1g8"
      },
      "source": [
        "# Create the following rank 2 array with shape (3, 4)\n",
        "# [[ 1  2  3  4]\n",
        "#  [ 5  6  7  8]\n",
        "#  [ 9 10 11 12]]\n",
        "a = np.array([[1,2,3,4], [5,6,7,8], [9,10,11,12]])"
      ],
      "execution_count": 5,
      "outputs": []
    },
    {
      "cell_type": "code",
      "metadata": {
        "id": "7Qyst-oqUwLv",
        "outputId": "c8265f4c-3b29-4db5-d627-2ab6c3a19ce5",
        "colab": {
          "base_uri": "https://localhost:8080/"
        }
      },
      "source": [
        "# Use slicing to pull out the subarray consisting of the first 2 rows\n",
        "# and columns 1 and 2; b is the following array of shape (2, 2):\n",
        "# [[2 3]\n",
        "#  [6 7]]\n",
        "b = a[:2, 1:3]\n",
        "print(b)"
      ],
      "execution_count": 6,
      "outputs": [
        {
          "output_type": "stream",
          "text": [
            "[[2 3]\n",
            " [6 7]]\n"
          ],
          "name": "stdout"
        }
      ]
    },
    {
      "cell_type": "code",
      "metadata": {
        "id": "QWo_GPzoUwrl",
        "outputId": "75817dbe-137c-4666-d636-9da09094c99d",
        "colab": {
          "base_uri": "https://localhost:8080/"
        }
      },
      "source": [
        "# Add 10 to all elements\n",
        "a += 10\n",
        "print(a)\n"
      ],
      "execution_count": 7,
      "outputs": [
        {
          "output_type": "stream",
          "text": [
            "[[11 12 13 14]\n",
            " [15 16 17 18]\n",
            " [19 20 21 22]]\n"
          ],
          "name": "stdout"
        }
      ]
    },
    {
      "cell_type": "code",
      "metadata": {
        "id": "I5Udkpb8VCUC",
        "outputId": "9bc47a9b-0044-4e2b-da44-81d35f6abb64",
        "colab": {
          "base_uri": "https://localhost:8080/"
        }
      },
      "source": [
        "print(a[a > 50])"
      ],
      "execution_count": 11,
      "outputs": [
        {
          "output_type": "stream",
          "text": [
            "[113 117 121]\n"
          ],
          "name": "stdout"
        }
      ]
    },
    {
      "cell_type": "code",
      "metadata": {
        "id": "BweHdIDDT1g9",
        "outputId": "03cc7464-c236-48bd-bee8-4531ecf9cf9f"
      },
      "source": [
        "a = np.array(([1, 2, 3, 4, 5], [6, 7, 8, 9, 10]))\n",
        "print(a)\n",
        "print(np.max(a, axis=0))\n",
        "b = np.max(a, axis=1).sum()\n",
        "b"
      ],
      "execution_count": null,
      "outputs": [
        {
          "output_type": "stream",
          "text": [
            "[[ 1  2  3  4  5]\n",
            " [ 6  7  8  9 10]]\n",
            "[ 6  7  8  9 10]\n"
          ],
          "name": "stdout"
        },
        {
          "output_type": "execute_result",
          "data": {
            "text/plain": [
              "15"
            ]
          },
          "metadata": {
            "tags": []
          },
          "execution_count": 42
        }
      ]
    },
    {
      "cell_type": "markdown",
      "metadata": {
        "id": "DaVaQ1iRWyGC"
      },
      "source": [
        "# Reshape"
      ]
    },
    {
      "cell_type": "code",
      "metadata": {
        "id": "1EThV4Y8T1g9",
        "outputId": "878fa0a9-7737-4ddd-866c-9a699d6140e1"
      },
      "source": [
        "# Reorganizing Arrays\n",
        "before = np.array([[1,2,3,4],[6,7,8,9]])\n",
        "print(before)\n",
        "\n",
        "after = before.reshape((2,2,2))\n",
        "print(after)"
      ],
      "execution_count": null,
      "outputs": [
        {
          "output_type": "stream",
          "text": [
            "[[1 2 3 4]\n",
            " [6 7 8 9]]\n",
            "[[[1 2]\n",
            "  [3 4]]\n",
            "\n",
            " [[6 7]\n",
            "  [8 9]]]\n"
          ],
          "name": "stdout"
        }
      ]
    },
    {
      "cell_type": "code",
      "metadata": {
        "id": "W-nkq2J2T1g9",
        "outputId": "673870a6-19da-49f0-b72d-013c11a40603"
      },
      "source": [
        "# Vertical stack\n",
        "v1 = np.array([1,2,3])\n",
        "v2 = np.array([4,5,6])\n",
        "v3 = np.vstack([v1,v2])\n",
        "print(v3)\n",
        "\n",
        "v3 = np.hstack([v1, v2])\n",
        "print(v3)\n",
        "\n",
        "print(v1 + v2)"
      ],
      "execution_count": null,
      "outputs": [
        {
          "output_type": "stream",
          "text": [
            "[[1 2 3]\n",
            " [4 5 6]]\n",
            "[1 2 3 4 5 6]\n",
            "[5 7 9]\n"
          ],
          "name": "stdout"
        }
      ]
    },
    {
      "cell_type": "code",
      "metadata": {
        "id": "TA1Ag_x6T1g-",
        "outputId": "b5c65047-21c6-40bf-d1de-ab9f51f269ab"
      },
      "source": [
        "x = np.array([[1,2,3], [4,5,6], [7,8,9], [10, 11, 12]])\n",
        "v = np.array([1, 0, 1])\n",
        "print(x + v)"
      ],
      "execution_count": null,
      "outputs": [
        {
          "output_type": "stream",
          "text": [
            "[[ 2  2  4]\n",
            " [ 5  5  7]\n",
            " [ 8  8 10]\n",
            " [11 11 13]]\n"
          ],
          "name": "stdout"
        }
      ]
    },
    {
      "cell_type": "code",
      "metadata": {
        "id": "1dU_FGaJT1g-"
      },
      "source": [
        ""
      ],
      "execution_count": null,
      "outputs": []
    }
  ]
}