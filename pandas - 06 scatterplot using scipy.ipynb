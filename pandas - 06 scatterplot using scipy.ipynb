{
 "cells": [
  {
   "cell_type": "code",
   "execution_count": 1,
   "metadata": {},
   "outputs": [],
   "source": [
    "import pandas as pd\n",
    "import numpy as np\n",
    "import seaborn as sns\n",
    "import matplotlib.pyplot as plt\n",
    "import scipy\n"
   ]
  },
  {
   "cell_type": "code",
   "execution_count": 2,
   "metadata": {},
   "outputs": [
    {
     "data": {
      "text/html": [
       "<div>\n",
       "<style scoped>\n",
       "    .dataframe tbody tr th:only-of-type {\n",
       "        vertical-align: middle;\n",
       "    }\n",
       "\n",
       "    .dataframe tbody tr th {\n",
       "        vertical-align: top;\n",
       "    }\n",
       "\n",
       "    .dataframe thead th {\n",
       "        text-align: right;\n",
       "    }\n",
       "</style>\n",
       "<table border=\"1\" class=\"dataframe\">\n",
       "  <thead>\n",
       "    <tr style=\"text-align: right;\">\n",
       "      <th></th>\n",
       "      <th>CSIRO Adjusted Sea Level</th>\n",
       "      <th>Lower Error Bound</th>\n",
       "      <th>Upper Error Bound</th>\n",
       "      <th>NOAA Adjusted Sea Level</th>\n",
       "    </tr>\n",
       "    <tr>\n",
       "      <th>Year</th>\n",
       "      <th></th>\n",
       "      <th></th>\n",
       "      <th></th>\n",
       "      <th></th>\n",
       "    </tr>\n",
       "  </thead>\n",
       "  <tbody>\n",
       "    <tr>\n",
       "      <th>2009-01-01</th>\n",
       "      <td>8.586614</td>\n",
       "      <td>8.311024</td>\n",
       "      <td>8.862205</td>\n",
       "      <td>8.046354</td>\n",
       "    </tr>\n",
       "    <tr>\n",
       "      <th>2010-01-01</th>\n",
       "      <td>8.901575</td>\n",
       "      <td>8.618110</td>\n",
       "      <td>9.185039</td>\n",
       "      <td>8.122973</td>\n",
       "    </tr>\n",
       "    <tr>\n",
       "      <th>2011-01-01</th>\n",
       "      <td>8.964567</td>\n",
       "      <td>8.661417</td>\n",
       "      <td>9.267717</td>\n",
       "      <td>8.053065</td>\n",
       "    </tr>\n",
       "    <tr>\n",
       "      <th>2012-01-01</th>\n",
       "      <td>9.326772</td>\n",
       "      <td>8.992126</td>\n",
       "      <td>9.661417</td>\n",
       "      <td>8.457058</td>\n",
       "    </tr>\n",
       "    <tr>\n",
       "      <th>2013-01-01</th>\n",
       "      <td>8.980315</td>\n",
       "      <td>8.622047</td>\n",
       "      <td>9.338583</td>\n",
       "      <td>8.546648</td>\n",
       "    </tr>\n",
       "  </tbody>\n",
       "</table>\n",
       "</div>"
      ],
      "text/plain": [
       "            CSIRO Adjusted Sea Level  Lower Error Bound  Upper Error Bound  \\\n",
       "Year                                                                         \n",
       "2009-01-01                  8.586614           8.311024           8.862205   \n",
       "2010-01-01                  8.901575           8.618110           9.185039   \n",
       "2011-01-01                  8.964567           8.661417           9.267717   \n",
       "2012-01-01                  9.326772           8.992126           9.661417   \n",
       "2013-01-01                  8.980315           8.622047           9.338583   \n",
       "\n",
       "            NOAA Adjusted Sea Level  \n",
       "Year                                 \n",
       "2009-01-01                 8.046354  \n",
       "2010-01-01                 8.122973  \n",
       "2011-01-01                 8.053065  \n",
       "2012-01-01                 8.457058  \n",
       "2013-01-01                 8.546648  "
      ]
     },
     "execution_count": 2,
     "metadata": {},
     "output_type": "execute_result"
    }
   ],
   "source": [
    "# Automatically parse dates and use the first column as index (Year in this dataset)\n",
    "df=pd.read_csv(\"epa-sea-level.csv\",\n",
    "              parse_dates=True,\n",
    "              index_col=0)\n",
    "#print(df.info())\n",
    "#print(df.head())\n",
    "df.tail()"
   ]
  },
  {
   "cell_type": "code",
   "execution_count": 3,
   "metadata": {},
   "outputs": [
    {
     "data": {
      "text/html": [
       "<div>\n",
       "<style scoped>\n",
       "    .dataframe tbody tr th:only-of-type {\n",
       "        vertical-align: middle;\n",
       "    }\n",
       "\n",
       "    .dataframe tbody tr th {\n",
       "        vertical-align: top;\n",
       "    }\n",
       "\n",
       "    .dataframe thead th {\n",
       "        text-align: right;\n",
       "    }\n",
       "</style>\n",
       "<table border=\"1\" class=\"dataframe\">\n",
       "  <thead>\n",
       "    <tr style=\"text-align: right;\">\n",
       "      <th></th>\n",
       "      <th>Year</th>\n",
       "      <th>CSIRO Adjusted Sea Level</th>\n",
       "      <th>Lower Error Bound</th>\n",
       "      <th>Upper Error Bound</th>\n",
       "      <th>NOAA Adjusted Sea Level</th>\n",
       "    </tr>\n",
       "  </thead>\n",
       "  <tbody>\n",
       "    <tr>\n",
       "      <th>129</th>\n",
       "      <td>2009</td>\n",
       "      <td>8.586614</td>\n",
       "      <td>8.311024</td>\n",
       "      <td>8.862205</td>\n",
       "      <td>8.046354</td>\n",
       "    </tr>\n",
       "    <tr>\n",
       "      <th>130</th>\n",
       "      <td>2010</td>\n",
       "      <td>8.901575</td>\n",
       "      <td>8.618110</td>\n",
       "      <td>9.185039</td>\n",
       "      <td>8.122973</td>\n",
       "    </tr>\n",
       "    <tr>\n",
       "      <th>131</th>\n",
       "      <td>2011</td>\n",
       "      <td>8.964567</td>\n",
       "      <td>8.661417</td>\n",
       "      <td>9.267717</td>\n",
       "      <td>8.053065</td>\n",
       "    </tr>\n",
       "    <tr>\n",
       "      <th>132</th>\n",
       "      <td>2012</td>\n",
       "      <td>9.326772</td>\n",
       "      <td>8.992126</td>\n",
       "      <td>9.661417</td>\n",
       "      <td>8.457058</td>\n",
       "    </tr>\n",
       "    <tr>\n",
       "      <th>133</th>\n",
       "      <td>2013</td>\n",
       "      <td>8.980315</td>\n",
       "      <td>8.622047</td>\n",
       "      <td>9.338583</td>\n",
       "      <td>8.546648</td>\n",
       "    </tr>\n",
       "  </tbody>\n",
       "</table>\n",
       "</div>"
      ],
      "text/plain": [
       "     Year  CSIRO Adjusted Sea Level  Lower Error Bound  Upper Error Bound  \\\n",
       "129  2009                  8.586614           8.311024           8.862205   \n",
       "130  2010                  8.901575           8.618110           9.185039   \n",
       "131  2011                  8.964567           8.661417           9.267717   \n",
       "132  2012                  9.326772           8.992126           9.661417   \n",
       "133  2013                  8.980315           8.622047           9.338583   \n",
       "\n",
       "     NOAA Adjusted Sea Level  \n",
       "129                 8.046354  \n",
       "130                 8.122973  \n",
       "131                 8.053065  \n",
       "132                 8.457058  \n",
       "133                 8.546648  "
      ]
     },
     "execution_count": 3,
     "metadata": {},
     "output_type": "execute_result"
    }
   ],
   "source": [
    "# We don't need data parsing in this example.\n",
    "df=pd.read_csv(\"epa-sea-level.csv\")\n",
    "#print(df.info())\n",
    "#print(df.head())\n",
    "df.tail()"
   ]
  },
  {
   "cell_type": "code",
   "execution_count": 4,
   "metadata": {},
   "outputs": [
    {
     "name": "stdout",
     "output_type": "stream",
     "text": [
      "\n"
     ]
    },
    {
     "data": {
      "image/png": "[encoded data removed]",
      "text/plain": [
       "<Figure size 432x288 with 1 Axes>"
      ]
     },
     "metadata": {
      "needs_background": "light"
     },
     "output_type": "display_data"
    }
   ],
   "source": [
    "# Scatter Plot - Option 1 - Using Dataframe plot function\n",
    "\n",
    "ax = df.plot.scatter(x=\"Year\",y=\"CSIRO Adjusted Sea Level\", c=\"m\", label=\"Sea Level\")    # Returns AxesSubPlot\n",
    "print(ax.get_title())\n",
    "\n"
   ]
  },
  {
   "cell_type": "code",
   "execution_count": 7,
   "metadata": {},
   "outputs": [
    {
     "data": {
      "image/png": "[encoded data removed]",
      "text/plain": [
       "<Figure size 432x288 with 1 Axes>"
      ]
     },
     "metadata": {
      "needs_background": "light"
     },
     "output_type": "display_data"
    }
   ],
   "source": [
    "# Scatter Plot - Option 2 - Using pyplot directly\n",
    "\n",
    "plt.scatter(df[\"Year\"], df[\"CSIRO Adjusted Sea Level\"], c=\"y\", label=\"Sea Level\")\n",
    "plt.xlabel('Year', fontsize=14, color='red')\n",
    "plt.ylabel('Sea Level (inches)')\n",
    "plt.title(\"Rise in Sea Level\")\n",
    "plt.axis([1850.0, 2075.0, 0, 12])\n",
    "plt.grid(True)\n",
    "plt.legend(loc='upper left')\n",
    "\n",
    "slope, intercept, r_value, p_value, std_err = scipy.stats.linregress(df[\"Year\"], df[\"CSIRO Adjusted Sea Level\"])\n",
    "#plt.plot(df[\"Year\"], intercept + slope*df[\"Year\"], 'r', label='fitted line')\n",
    "\n",
    "# Create new Panda Series till 2050 for predicting future\n",
    "years = df[\"Year\"]\n",
    "more = pd.Series([ii for ii in range(df[\"Year\"].max() + 1, 2050)])\n",
    "years = years.append(more)\n",
    "#print(years)\n",
    "\n",
    "# Now plot a line  that predicts the sealevel till 2050 using current slope\n",
    "plt.plot(years, intercept + slope*years, 'r', label='Prediction using all data')    # r for red\n",
    "plt.legend(loc='upper left')\n",
    "\n",
    "\n",
    "# Predict using data from year 2000 through the most recent year\n",
    "df1 = df.query(\"Year > 1999\")\n",
    "slope, intercept, r_value, p_value, std_err = scipy.stats.linregress(df1[\"Year\"], df1[\"CSIRO Adjusted Sea Level\"])\n",
    "years = df1[\"Year\"]\n",
    "years = years[years > 1999]\n",
    "more = pd.Series([ii for ii in range(df1[\"Year\"].max() + 1, 2050)])\n",
    "years = years.append(more)\n",
    "years = years.reset_index(drop=True)\n",
    "plt.plot(years, intercept + slope*years, 'g-', label='Prediction using recent data')    # g for green\n",
    "plt.legend(loc='upper left')\n",
    "\n",
    "ax = plt.gca()\n",
    "#print(ax.get_title())\n",
    "\n",
    "plt.show()\n",
    "\n",
    "#print(ax.get_lines()[0].get_ydata().tolist())\n",
    "#print(ax.get_lines()[1].get_ydata().tolist())\n",
    "\n"
   ]
  },
  {
   "cell_type": "code",
   "execution_count": 6,
   "metadata": {},
   "outputs": [],
   "source": [
    "# Once the plot is rendered, you can draw the next one using same API."
   ]
  },
  {
   "cell_type": "code",
   "execution_count": 8,
   "metadata": {},
   "outputs": [
    {
     "data": {
      "text/plain": [
       "(array([-2.,  0.,  2.,  4.,  6.,  8., 10.]),\n",
       " <a list of 7 Text major ticklabel objects>)"
      ]
     },
     "execution_count": 8,
     "metadata": {},
     "output_type": "execute_result"
    },
    {
     "data": {
      "image/png": "[encoded data removed]",
      "text/plain": [
       "<Figure size 720x360 with 1 Axes>"
      ]
     },
     "metadata": {
      "needs_background": "light"
     },
     "output_type": "display_data"
    }
   ],
   "source": [
    "# Scatter Plot - Option 3. Specify the size and pass it.\n",
    "\n",
    "fig, ax= plt.subplots(figsize=(10,5))\n",
    "df.plot.scatter(x=\"Year\",y=\"CSIRO Adjusted Sea Level\", ax=ax)\n",
    "ax.set_title(\"Rise in Sea Level\")\n",
    "ax.set_ylabel('Sea Level (inches)')\n",
    "plt.xticks([1850.0, 1875.0, 1900.0, 1925.0, 1950.0, 1975.0, 2000.0, 2025.0, 2050.0, 2075.0])\n",
    "plt.yticks(fontsize = 10)\n"
   ]
  },
  {
   "cell_type": "code",
   "execution_count": null,
   "metadata": {},
   "outputs": [],
   "source": []
  }
 ],
 "metadata": {
  "kernelspec": {
   "display_name": "Python 3",
   "language": "python",
   "name": "python3"
  },
  "language_info": {
   "codemirror_mode": {
    "name": "ipython",
    "version": 3
   },
   "file_extension": ".py",
   "mimetype": "text/x-python",
   "name": "python",
   "nbconvert_exporter": "python",
   "pygments_lexer": "ipython3",
   "version": "3.8.5"
  }
 },
 "nbformat": 4,
 "nbformat_minor": 4
}
